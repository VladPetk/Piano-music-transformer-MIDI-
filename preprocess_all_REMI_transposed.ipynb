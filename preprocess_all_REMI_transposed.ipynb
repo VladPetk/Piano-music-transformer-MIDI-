{
 "cells": [
  {
   "cell_type": "markdown",
   "id": "44aa4cce-d877-47c4-b80d-9bbd5a4cbca5",
   "metadata": {},
   "source": [
    "# Processing All Data"
   ]
  },
  {
   "cell_type": "markdown",
   "id": "7fb6721c-b61b-4dbf-b6ae-f63b67656e3c",
   "metadata": {},
   "source": [
    "#### Giant Piano MIDI, ASAP, Maestro, and ATEPP"
   ]
  },
  {
   "cell_type": "markdown",
   "id": "f257eb2a-8166-4b2c-9a66-d1230791d3c0",
   "metadata": {},
   "source": [
    "## Library Import"
   ]
  },
  {
   "cell_type": "code",
   "execution_count": 1,
   "id": "f149544e-90da-4b8c-a08c-5273768de9aa",
   "metadata": {},
   "outputs": [],
   "source": [
    "import miditok\n",
    "import os\n",
    "import pickle\n",
    "import json\n",
    "import random\n",
    "from tqdm import tqdm\n",
    "import copy\n",
    "from collections import Counter\n",
    "\n",
    "import random\n",
    "import shutil\n",
    "\n",
    "from collections import defaultdict"
   ]
  },
  {
   "cell_type": "markdown",
   "id": "748d91df-9e34-4c5f-bc73-5d1bb044fdf4",
   "metadata": {},
   "source": [
    "## Get file paths"
   ]
  },
  {
   "cell_type": "code",
   "execution_count": 58,
   "id": "04ebd858-f5a3-4d9b-bec2-978615e3095a",
   "metadata": {},
   "outputs": [],
   "source": [
    "filez_path = 'norm_midi'\n",
    "filez = list()\n",
    "for (dirpath, dirnames, filenames) in os.walk(filez_path):\n",
    "    filez += [os.path.join(dirpath, file) for file in filenames if file.lower().endswith((\".mid\", \".midi\"))]"
   ]
  },
  {
   "cell_type": "code",
   "execution_count": 57,
   "id": "e9e901e7-64da-4b5c-a843-1c262bbda6ae",
   "metadata": {},
   "outputs": [],
   "source": [
    "filez_path2 = 'transposed_midi'\n",
    "filez2 = list()\n",
    "for (dirpath, dirnames, filenames) in os.walk(filez_path2):\n",
    "    filez2 += [os.path.join(dirpath, file) for file in filenames if file.lower().endswith((\".mid\", \".midi\"))]"
   ]
  },
  {
   "cell_type": "code",
   "execution_count": 3,
   "id": "9d229175-de2e-4eac-accd-1abbbd7d3cf2",
   "metadata": {},
   "outputs": [
    {
     "data": {
      "text/plain": [
       "38548"
      ]
     },
     "execution_count": 3,
     "metadata": {},
     "output_type": "execute_result"
    }
   ],
   "source": [
    "len(filez)"
   ]
  },
  {
   "cell_type": "code",
   "execution_count": 22,
   "id": "a0946446-3373-460e-8895-9de3b1dfcd26",
   "metadata": {},
   "outputs": [
    {
     "data": {
      "text/plain": [
       "3348"
      ]
     },
     "execution_count": 22,
     "metadata": {},
     "output_type": "execute_result"
    }
   ],
   "source": [
    "len(filez2)"
   ]
  },
  {
   "cell_type": "markdown",
   "id": "57cc6f44-88e9-4942-b1ae-45eda012bbf4",
   "metadata": {},
   "source": [
    "## Tokenize"
   ]
  },
  {
   "cell_type": "markdown",
   "id": "64392028-40c7-4a1b-b08f-051275ab0159",
   "metadata": {},
   "source": [
    "#### Define a validation function to not process short (<256 notes) MIDIs"
   ]
  },
  {
   "cell_type": "code",
   "execution_count": 4,
   "id": "5b9687c2-0b13-4103-b632-7b1b2d2bbd28",
   "metadata": {},
   "outputs": [],
   "source": [
    "def midi_valid(midi) -> bool:\n",
    "    if len(midi.instruments[0].notes) < 300:\n",
    "        return False  # this MIDI is too short\n",
    "    return True"
   ]
  },
  {
   "cell_type": "code",
   "execution_count": 7,
   "id": "6165fc54-8681-4a1b-af2d-339195c7b192",
   "metadata": {},
   "outputs": [],
   "source": [
    "# Our parameters\n",
    "CHORD_MAPS = {\n",
    "    \"min\": (0, 3, 7),\n",
    "    \"maj\": (0, 4, 7),\n",
    "    \"dim\": (0, 3, 6),\n",
    "    \"aug\": (0, 4, 8),\n",
    "    \"sus2\": (0, 2, 7),\n",
    "    \"sus4\": (0, 5, 7),\n",
    "    \"7dom\": (0, 4, 7, 10),\n",
    "    \"7min\": (0, 3, 7, 10),\n",
    "    \"7maj\": (0, 4, 7, 11),\n",
    "    \"7halfdim\": (0, 3, 6, 10),\n",
    "    \"7dim\": (0, 3, 6, 9),\n",
    "    \"7aug\": (0, 4, 8, 11),\n",
    "    \"9maj\": (0, 4, 7, 10, 14),\n",
    "    \"9min\": (0, 4, 7, 10, 13),\n",
    "}\n",
    "\n",
    "TS_MAPS = {16: [15, 11, 7, 4, 3, 12, 6], 8: [3, 12, 6, 7, 5, 9], 4: [5, 6, 3, 2, 1, 4, 9], 2: [3, 2, 4, 1]}\n",
    "\n",
    "\n",
    "TOKENIZER_PARAMS2 = {\n",
    "    \"pitch_range\": (21, 109),\n",
    "    \"beat_res\": {(0, 4): 8, (4, 12): 4},\n",
    "    \"nb_velocities\": 32,\n",
    "    \"special_tokens\": [\"PAD\", \"EOS\"],\n",
    "    \"use_chords\": True,\n",
    "    \"chord_maps\": CHORD_MAPS,\n",
    "    \"use_rests\": True,\n",
    "    \"use_tempos\": True,\n",
    "    \"use_time_signatures\": True,\n",
    "    \"time_signature_range\": TS_MAPS,\n",
    "    \"use_programs\": False,\n",
    "    \"use_sustain_pedals\": False,\n",
    "    \"nb_tempos\": 32,  # nb of tempo bins\n",
    "    \"tempo_range\": (40, 250),  # (min, max)\n",
    "}\n",
    "config = miditok.TokenizerConfig(**TOKENIZER_PARAMS2)\n",
    "\n",
    "# Creates the tokenizer\n",
    "tokenizer = miditok.REMI(config)"
   ]
  },
  {
   "cell_type": "code",
   "execution_count": 8,
   "id": "ac120f49-ce5a-45ac-bb56-a4d234d67fb5",
   "metadata": {
    "scrolled": true
   },
   "outputs": [
    {
     "data": {
      "text/plain": [
       "361"
      ]
     },
     "execution_count": 8,
     "metadata": {},
     "output_type": "execute_result"
    }
   ],
   "source": [
    "len(tokenizer.vocab.keys())"
   ]
  },
  {
   "cell_type": "code",
   "execution_count": 54,
   "id": "89349376-da02-4fb7-abfe-21cfedea2e6d",
   "metadata": {},
   "outputs": [],
   "source": [
    "pickle.dump(tokenizer, open(\"tokenizer_REMI_ext_np.p\", \"wb\"))"
   ]
  },
  {
   "cell_type": "code",
   "execution_count": 11,
   "id": "df170a54-3d0f-4169-b85d-1987645ea575",
   "metadata": {
    "scrolled": true
   },
   "outputs": [
    {
     "data": {
      "text/plain": [
       "{'PAD_None': 0,\n",
       " 'EOS_None': 1,\n",
       " 'Bar_None': 2,\n",
       " 'Pitch_21': 3,\n",
       " 'Pitch_22': 4,\n",
       " 'Pitch_23': 5,\n",
       " 'Pitch_24': 6,\n",
       " 'Pitch_25': 7,\n",
       " 'Pitch_26': 8,\n",
       " 'Pitch_27': 9,\n",
       " 'Pitch_28': 10,\n",
       " 'Pitch_29': 11,\n",
       " 'Pitch_30': 12,\n",
       " 'Pitch_31': 13,\n",
       " 'Pitch_32': 14,\n",
       " 'Pitch_33': 15,\n",
       " 'Pitch_34': 16,\n",
       " 'Pitch_35': 17,\n",
       " 'Pitch_36': 18,\n",
       " 'Pitch_37': 19,\n",
       " 'Pitch_38': 20,\n",
       " 'Pitch_39': 21,\n",
       " 'Pitch_40': 22,\n",
       " 'Pitch_41': 23,\n",
       " 'Pitch_42': 24,\n",
       " 'Pitch_43': 25,\n",
       " 'Pitch_44': 26,\n",
       " 'Pitch_45': 27,\n",
       " 'Pitch_46': 28,\n",
       " 'Pitch_47': 29,\n",
       " 'Pitch_48': 30,\n",
       " 'Pitch_49': 31,\n",
       " 'Pitch_50': 32,\n",
       " 'Pitch_51': 33,\n",
       " 'Pitch_52': 34,\n",
       " 'Pitch_53': 35,\n",
       " 'Pitch_54': 36,\n",
       " 'Pitch_55': 37,\n",
       " 'Pitch_56': 38,\n",
       " 'Pitch_57': 39,\n",
       " 'Pitch_58': 40,\n",
       " 'Pitch_59': 41,\n",
       " 'Pitch_60': 42,\n",
       " 'Pitch_61': 43,\n",
       " 'Pitch_62': 44,\n",
       " 'Pitch_63': 45,\n",
       " 'Pitch_64': 46,\n",
       " 'Pitch_65': 47,\n",
       " 'Pitch_66': 48,\n",
       " 'Pitch_67': 49,\n",
       " 'Pitch_68': 50,\n",
       " 'Pitch_69': 51,\n",
       " 'Pitch_70': 52,\n",
       " 'Pitch_71': 53,\n",
       " 'Pitch_72': 54,\n",
       " 'Pitch_73': 55,\n",
       " 'Pitch_74': 56,\n",
       " 'Pitch_75': 57,\n",
       " 'Pitch_76': 58,\n",
       " 'Pitch_77': 59,\n",
       " 'Pitch_78': 60,\n",
       " 'Pitch_79': 61,\n",
       " 'Pitch_80': 62,\n",
       " 'Pitch_81': 63,\n",
       " 'Pitch_82': 64,\n",
       " 'Pitch_83': 65,\n",
       " 'Pitch_84': 66,\n",
       " 'Pitch_85': 67,\n",
       " 'Pitch_86': 68,\n",
       " 'Pitch_87': 69,\n",
       " 'Pitch_88': 70,\n",
       " 'Pitch_89': 71,\n",
       " 'Pitch_90': 72,\n",
       " 'Pitch_91': 73,\n",
       " 'Pitch_92': 74,\n",
       " 'Pitch_93': 75,\n",
       " 'Pitch_94': 76,\n",
       " 'Pitch_95': 77,\n",
       " 'Pitch_96': 78,\n",
       " 'Pitch_97': 79,\n",
       " 'Pitch_98': 80,\n",
       " 'Pitch_99': 81,\n",
       " 'Pitch_100': 82,\n",
       " 'Pitch_101': 83,\n",
       " 'Pitch_102': 84,\n",
       " 'Pitch_103': 85,\n",
       " 'Pitch_104': 86,\n",
       " 'Pitch_105': 87,\n",
       " 'Pitch_106': 88,\n",
       " 'Pitch_107': 89,\n",
       " 'Pitch_108': 90,\n",
       " 'Velocity_3': 91,\n",
       " 'Velocity_7': 92,\n",
       " 'Velocity_11': 93,\n",
       " 'Velocity_15': 94,\n",
       " 'Velocity_19': 95,\n",
       " 'Velocity_23': 96,\n",
       " 'Velocity_27': 97,\n",
       " 'Velocity_31': 98,\n",
       " 'Velocity_35': 99,\n",
       " 'Velocity_39': 100,\n",
       " 'Velocity_43': 101,\n",
       " 'Velocity_47': 102,\n",
       " 'Velocity_51': 103,\n",
       " 'Velocity_55': 104,\n",
       " 'Velocity_59': 105,\n",
       " 'Velocity_63': 106,\n",
       " 'Velocity_67': 107,\n",
       " 'Velocity_71': 108,\n",
       " 'Velocity_75': 109,\n",
       " 'Velocity_79': 110,\n",
       " 'Velocity_83': 111,\n",
       " 'Velocity_87': 112,\n",
       " 'Velocity_91': 113,\n",
       " 'Velocity_95': 114,\n",
       " 'Velocity_99': 115,\n",
       " 'Velocity_103': 116,\n",
       " 'Velocity_107': 117,\n",
       " 'Velocity_111': 118,\n",
       " 'Velocity_115': 119,\n",
       " 'Velocity_119': 120,\n",
       " 'Velocity_123': 121,\n",
       " 'Velocity_127': 122,\n",
       " 'Duration_0.1.8': 123,\n",
       " 'Duration_0.2.8': 124,\n",
       " 'Duration_0.3.8': 125,\n",
       " 'Duration_0.4.8': 126,\n",
       " 'Duration_0.5.8': 127,\n",
       " 'Duration_0.6.8': 128,\n",
       " 'Duration_0.7.8': 129,\n",
       " 'Duration_1.0.8': 130,\n",
       " 'Duration_1.1.8': 131,\n",
       " 'Duration_1.2.8': 132,\n",
       " 'Duration_1.3.8': 133,\n",
       " 'Duration_1.4.8': 134,\n",
       " 'Duration_1.5.8': 135,\n",
       " 'Duration_1.6.8': 136,\n",
       " 'Duration_1.7.8': 137,\n",
       " 'Duration_2.0.8': 138,\n",
       " 'Duration_2.1.8': 139,\n",
       " 'Duration_2.2.8': 140,\n",
       " 'Duration_2.3.8': 141,\n",
       " 'Duration_2.4.8': 142,\n",
       " 'Duration_2.5.8': 143,\n",
       " 'Duration_2.6.8': 144,\n",
       " 'Duration_2.7.8': 145,\n",
       " 'Duration_3.0.8': 146,\n",
       " 'Duration_3.1.8': 147,\n",
       " 'Duration_3.2.8': 148,\n",
       " 'Duration_3.3.8': 149,\n",
       " 'Duration_3.4.8': 150,\n",
       " 'Duration_3.5.8': 151,\n",
       " 'Duration_3.6.8': 152,\n",
       " 'Duration_3.7.8': 153,\n",
       " 'Duration_4.0.4': 154,\n",
       " 'Duration_4.1.4': 155,\n",
       " 'Duration_4.2.4': 156,\n",
       " 'Duration_4.3.4': 157,\n",
       " 'Duration_5.0.4': 158,\n",
       " 'Duration_5.1.4': 159,\n",
       " 'Duration_5.2.4': 160,\n",
       " 'Duration_5.3.4': 161,\n",
       " 'Duration_6.0.4': 162,\n",
       " 'Duration_6.1.4': 163,\n",
       " 'Duration_6.2.4': 164,\n",
       " 'Duration_6.3.4': 165,\n",
       " 'Duration_7.0.4': 166,\n",
       " 'Duration_7.1.4': 167,\n",
       " 'Duration_7.2.4': 168,\n",
       " 'Duration_7.3.4': 169,\n",
       " 'Duration_8.0.4': 170,\n",
       " 'Duration_8.1.4': 171,\n",
       " 'Duration_8.2.4': 172,\n",
       " 'Duration_8.3.4': 173,\n",
       " 'Duration_9.0.4': 174,\n",
       " 'Duration_9.1.4': 175,\n",
       " 'Duration_9.2.4': 176,\n",
       " 'Duration_9.3.4': 177,\n",
       " 'Duration_10.0.4': 178,\n",
       " 'Duration_10.1.4': 179,\n",
       " 'Duration_10.2.4': 180,\n",
       " 'Duration_10.3.4': 181,\n",
       " 'Duration_11.0.4': 182,\n",
       " 'Duration_11.1.4': 183,\n",
       " 'Duration_11.2.4': 184,\n",
       " 'Duration_11.3.4': 185,\n",
       " 'Duration_12.0.4': 186,\n",
       " 'Position_0': 187,\n",
       " 'Position_1': 188,\n",
       " 'Position_2': 189,\n",
       " 'Position_3': 190,\n",
       " 'Position_4': 191,\n",
       " 'Position_5': 192,\n",
       " 'Position_6': 193,\n",
       " 'Position_7': 194,\n",
       " 'Position_8': 195,\n",
       " 'Position_9': 196,\n",
       " 'Position_10': 197,\n",
       " 'Position_11': 198,\n",
       " 'Position_12': 199,\n",
       " 'Position_13': 200,\n",
       " 'Position_14': 201,\n",
       " 'Position_15': 202,\n",
       " 'Position_16': 203,\n",
       " 'Position_17': 204,\n",
       " 'Position_18': 205,\n",
       " 'Position_19': 206,\n",
       " 'Position_20': 207,\n",
       " 'Position_21': 208,\n",
       " 'Position_22': 209,\n",
       " 'Position_23': 210,\n",
       " 'Position_24': 211,\n",
       " 'Position_25': 212,\n",
       " 'Position_26': 213,\n",
       " 'Position_27': 214,\n",
       " 'Position_28': 215,\n",
       " 'Position_29': 216,\n",
       " 'Position_30': 217,\n",
       " 'Position_31': 218,\n",
       " 'Position_32': 219,\n",
       " 'Position_33': 220,\n",
       " 'Position_34': 221,\n",
       " 'Position_35': 222,\n",
       " 'Position_36': 223,\n",
       " 'Position_37': 224,\n",
       " 'Position_38': 225,\n",
       " 'Position_39': 226,\n",
       " 'Position_40': 227,\n",
       " 'Position_41': 228,\n",
       " 'Position_42': 229,\n",
       " 'Position_43': 230,\n",
       " 'Position_44': 231,\n",
       " 'Position_45': 232,\n",
       " 'Position_46': 233,\n",
       " 'Position_47': 234,\n",
       " 'Position_48': 235,\n",
       " 'Position_49': 236,\n",
       " 'Position_50': 237,\n",
       " 'Position_51': 238,\n",
       " 'Position_52': 239,\n",
       " 'Position_53': 240,\n",
       " 'Position_54': 241,\n",
       " 'Position_55': 242,\n",
       " 'Position_56': 243,\n",
       " 'Position_57': 244,\n",
       " 'Position_58': 245,\n",
       " 'Position_59': 246,\n",
       " 'Position_60': 247,\n",
       " 'Position_61': 248,\n",
       " 'Position_62': 249,\n",
       " 'Position_63': 250,\n",
       " 'Position_64': 251,\n",
       " 'Position_65': 252,\n",
       " 'Position_66': 253,\n",
       " 'Position_67': 254,\n",
       " 'Position_68': 255,\n",
       " 'Position_69': 256,\n",
       " 'Position_70': 257,\n",
       " 'Position_71': 258,\n",
       " 'Chord_min': 259,\n",
       " 'Chord_maj': 260,\n",
       " 'Chord_dim': 261,\n",
       " 'Chord_aug': 262,\n",
       " 'Chord_sus2': 263,\n",
       " 'Chord_sus4': 264,\n",
       " 'Chord_7dom': 265,\n",
       " 'Chord_7min': 266,\n",
       " 'Chord_7maj': 267,\n",
       " 'Chord_7halfdim': 268,\n",
       " 'Chord_7dim': 269,\n",
       " 'Chord_7aug': 270,\n",
       " 'Chord_9maj': 271,\n",
       " 'Chord_9min': 272,\n",
       " 'Rest_0.1.8': 273,\n",
       " 'Rest_0.2.8': 274,\n",
       " 'Rest_0.3.8': 275,\n",
       " 'Rest_0.4.8': 276,\n",
       " 'Rest_0.5.8': 277,\n",
       " 'Rest_0.6.8': 278,\n",
       " 'Rest_0.7.8': 279,\n",
       " 'Rest_1.0.4': 280,\n",
       " 'Rest_1.1.4': 281,\n",
       " 'Rest_1.2.4': 282,\n",
       " 'Rest_1.3.4': 283,\n",
       " 'Rest_2.0.2': 284,\n",
       " 'Rest_2.1.2': 285,\n",
       " 'Rest_3.0.2': 286,\n",
       " 'Rest_3.1.2': 287,\n",
       " 'Rest_4.0.2': 288,\n",
       " 'Rest_4.1.2': 289,\n",
       " 'Rest_5.0.2': 290,\n",
       " 'Rest_5.1.2': 291,\n",
       " 'Rest_6.0.2': 292,\n",
       " 'Rest_6.1.2': 293,\n",
       " 'Rest_7.0.2': 294,\n",
       " 'Rest_7.1.2': 295,\n",
       " 'Rest_8.0.2': 296,\n",
       " 'Rest_8.1.2': 297,\n",
       " 'Rest_9.0.2': 298,\n",
       " 'Rest_9.1.2': 299,\n",
       " 'Rest_10.0.2': 300,\n",
       " 'Rest_10.1.2': 301,\n",
       " 'Rest_11.0.2': 302,\n",
       " 'Rest_11.1.2': 303,\n",
       " 'Rest_12.0.2': 304,\n",
       " 'Tempo_40.0': 305,\n",
       " 'Tempo_46.77': 306,\n",
       " 'Tempo_53.55': 307,\n",
       " 'Tempo_60.32': 308,\n",
       " 'Tempo_67.1': 309,\n",
       " 'Tempo_73.87': 310,\n",
       " 'Tempo_80.65': 311,\n",
       " 'Tempo_87.42': 312,\n",
       " 'Tempo_94.19': 313,\n",
       " 'Tempo_100.97': 314,\n",
       " 'Tempo_107.74': 315,\n",
       " 'Tempo_114.52': 316,\n",
       " 'Tempo_121.29': 317,\n",
       " 'Tempo_128.06': 318,\n",
       " 'Tempo_134.84': 319,\n",
       " 'Tempo_141.61': 320,\n",
       " 'Tempo_148.39': 321,\n",
       " 'Tempo_155.16': 322,\n",
       " 'Tempo_161.94': 323,\n",
       " 'Tempo_168.71': 324,\n",
       " 'Tempo_175.48': 325,\n",
       " 'Tempo_182.26': 326,\n",
       " 'Tempo_189.03': 327,\n",
       " 'Tempo_195.81': 328,\n",
       " 'Tempo_202.58': 329,\n",
       " 'Tempo_209.35': 330,\n",
       " 'Tempo_216.13': 331,\n",
       " 'Tempo_222.9': 332,\n",
       " 'Tempo_229.68': 333,\n",
       " 'Tempo_236.45': 334,\n",
       " 'Tempo_243.23': 335,\n",
       " 'Tempo_250.0': 336,\n",
       " 'TimeSig_15/16': 337,\n",
       " 'TimeSig_11/16': 338,\n",
       " 'TimeSig_7/16': 339,\n",
       " 'TimeSig_4/16': 340,\n",
       " 'TimeSig_3/16': 341,\n",
       " 'TimeSig_12/16': 342,\n",
       " 'TimeSig_6/16': 343,\n",
       " 'TimeSig_3/8': 344,\n",
       " 'TimeSig_12/8': 345,\n",
       " 'TimeSig_6/8': 346,\n",
       " 'TimeSig_7/8': 347,\n",
       " 'TimeSig_5/8': 348,\n",
       " 'TimeSig_9/8': 349,\n",
       " 'TimeSig_5/4': 350,\n",
       " 'TimeSig_6/4': 351,\n",
       " 'TimeSig_3/4': 352,\n",
       " 'TimeSig_2/4': 353,\n",
       " 'TimeSig_1/4': 354,\n",
       " 'TimeSig_4/4': 355,\n",
       " 'TimeSig_9/4': 356,\n",
       " 'TimeSig_3/2': 357,\n",
       " 'TimeSig_2/2': 358,\n",
       " 'TimeSig_4/2': 359,\n",
       " 'TimeSig_1/2': 360,\n",
       " 'Pedal_0': 361,\n",
       " 'PedalOff_0': 362}"
      ]
     },
     "execution_count": 11,
     "metadata": {},
     "output_type": "execute_result"
    }
   ],
   "source": [
    "tokenizer.vocab"
   ]
  },
  {
   "cell_type": "code",
   "execution_count": 59,
   "id": "ca5743f5-38c9-4046-9453-e9b0a3f46eef",
   "metadata": {},
   "outputs": [
    {
     "name": "stderr",
     "output_type": "stream",
     "text": [
      "Tokenizing MIDIs (REMI_tokens_norm2): 100%|██████████| 38548/38548 [1:04:19<00:00,  9.99it/s]\n"
     ]
    }
   ],
   "source": [
    "tokenizer.tokenize_midi_dataset(midi_paths = filez, out_dir = \"REMI_tokens_norm2\", validation_fn = midi_valid) #error at 2601+3807"
   ]
  },
  {
   "cell_type": "code",
   "execution_count": 60,
   "id": "7bf28ff4-cfc0-4a08-89aa-aab226ae21f1",
   "metadata": {},
   "outputs": [
    {
     "name": "stderr",
     "output_type": "stream",
     "text": [
      "/opt/conda/lib/python3.10/site-packages/miditok/midi_tokenizer.py:1800: UserWarning: Tokenizer config file already exists. Overwriting it (REMI_tokens_norm2/tokenizer.conf)\n",
      "  warnings.warn(\n",
      "Tokenizing MIDIs (REMI_tokens_norm2): 100%|██████████| 3348/3348 [08:25<00:00,  6.63it/s]\n"
     ]
    }
   ],
   "source": [
    "tokenizer.tokenize_midi_dataset(midi_paths = filez2, out_dir = \"REMI_tokens_norm2\", validation_fn = midi_valid) #error at 2601+3807"
   ]
  },
  {
   "cell_type": "markdown",
   "id": "ffeda192-53f1-4b1d-b934-f480c5847f12",
   "metadata": {},
   "source": [
    "### Ensure all files are over 1024 tokens length"
   ]
  },
  {
   "cell_type": "code",
   "execution_count": 61,
   "id": "615bd096-9fdd-4cd3-b18e-69f62a3ad61b",
   "metadata": {
    "scrolled": true
   },
   "outputs": [],
   "source": [
    "# Define the maximum size for JSON files in kilobytes\n",
    "max_file_size_kb = 80\n",
    "\n",
    "# Define the minimum length for the list\n",
    "minimum_list_length = 1048\n",
    "\n",
    "# Function to check and move JSON files\n",
    "def process_directory(directory, destination_directory):\n",
    "    c = 0\n",
    "    for root, _, files in os.walk(directory):\n",
    "        for filename in files:\n",
    "            if filename.endswith('.json'):\n",
    "                file_path = os.path.join(root, filename)\n",
    "\n",
    "                # Check file size before processing\n",
    "                file_size_kb = os.path.getsize(file_path) / 1024  # Convert to kilobytes\n",
    "                if file_size_kb <= max_file_size_kb:\n",
    "                    with open(file_path, 'r') as json_file:\n",
    "                        data = json.load(json_file)\n",
    "                    if \"ids\" in data and len(data[\"ids\"]) > 0 and len(data[\"ids\"][0]) < minimum_list_length:\n",
    "                        destination_path = os.path.join(destination_directory, filename)\n",
    "                        shutil.move(file_path, destination_path)\n",
    "                        print(f\"Moved: {file_path} to {destination_path}\")\n",
    "                        c+=1\n",
    "                else:\n",
    "                    pass\n",
    "    return c"
   ]
  },
  {
   "cell_type": "code",
   "execution_count": 62,
   "id": "7db0a65c-2238-409f-ad39-9a296c2d23c3",
   "metadata": {
    "scrolled": true
   },
   "outputs": [
    {
     "data": {
      "text/plain": [
       "0"
      ]
     },
     "execution_count": 62,
     "metadata": {},
     "output_type": "execute_result"
    }
   ],
   "source": [
    "source_directory = 'REMI_tokens_norm'\n",
    "destination_directory = 'data_too_short'\n",
    "\n",
    "process_directory(source_directory, destination_directory)"
   ]
  },
  {
   "cell_type": "markdown",
   "id": "cd60e25b-62e2-408c-b9b2-0cd8bd1e6c92",
   "metadata": {},
   "source": [
    "## Split into train/val/test"
   ]
  },
  {
   "cell_type": "code",
   "execution_count": 63,
   "id": "f1fd15c6-ee59-4899-b4ca-286b4d1b2b80",
   "metadata": {
    "scrolled": true
   },
   "outputs": [
    {
     "name": "stderr",
     "output_type": "stream",
     "text": [
      "100%|██████████| 22268/22268 [00:03<00:00, 5690.99it/s]\n"
     ]
    }
   ],
   "source": [
    "# Set the main directory path\n",
    "main_directory = \"REMI_tokens_norm2\"\n",
    "\n",
    "# Define the train, validation, and test split percentages\n",
    "train_percent = 0.945  # 94.5% of the data for training\n",
    "validation_percent = 0.05  # 5% for validation - 0.5% left for testing\n",
    "\n",
    "\n",
    "# Create destination directories for each split\n",
    "train_dir = 'data_remi_norm2/train'\n",
    "validation_dir = 'data_remi_norm2/val'\n",
    "test_dir = 'data_remi_norm2/test'\n",
    "\n",
    "\n",
    "files = list()\n",
    "for (dirpath, dirnames, filenames) in os.walk(main_directory):\n",
    "    files += [os.path.join(dirpath, file) for file in filenames]\n",
    "\n",
    "random.shuffle(files)\n",
    "    \n",
    "# Calculate the number of files for each split\n",
    "num_files = len(files)\n",
    "num_train = int(train_percent * num_files)\n",
    "num_validation = int(validation_percent * num_files)\n",
    "num_test = num_files - num_train - num_validation\n",
    "\n",
    "# Distribute the files into train, validation, and test splits\n",
    "train_files = files[:num_train]\n",
    "validation_files = files[num_train:num_train + num_validation]\n",
    "test_files = files[num_train + num_validation:]\n",
    "\n",
    "# Copy or move the files into the respective split directories\n",
    "for file in tqdm(train_files):\n",
    "    shutil.copy(file, train_dir)\n",
    "\n",
    "for file in validation_files:\n",
    "    shutil.copy(file, validation_dir)\n",
    "\n",
    "for file in test_files:\n",
    "    shutil.copy(file, test_dir)\n",
    "\n"
   ]
  },
  {
   "cell_type": "markdown",
   "id": "10e581b2-941e-450f-a038-2ccc49eefc02",
   "metadata": {},
   "source": [
    "### Perform Data Augmentation"
   ]
  },
  {
   "cell_type": "code",
   "execution_count": 2,
   "id": "96e4abda-a6de-4972-bcd2-4978e74ab775",
   "metadata": {},
   "outputs": [],
   "source": [
    "tokenizer = pickle.load(open(\"tokenizer_REMI_ext.p\", \"rb\"))"
   ]
  },
  {
   "cell_type": "code",
   "execution_count": 3,
   "id": "3fc76985-6873-497f-aa47-8adfbd4e5dc9",
   "metadata": {},
   "outputs": [
    {
     "data": {
      "text/plain": [
       "363 tokens with ('I', 'T') io format, without BPE"
      ]
     },
     "execution_count": 3,
     "metadata": {},
     "output_type": "execute_result"
    }
   ],
   "source": [
    "tokenizer"
   ]
  },
  {
   "cell_type": "code",
   "execution_count": 4,
   "id": "a5891316-ba42-4060-b77c-51bb7ce02703",
   "metadata": {},
   "outputs": [
    {
     "name": "stderr",
     "output_type": "stream",
     "text": [
      "Performing data augmentation: 100%|██████████| 21919/21919 [07:52<00:00, 46.37it/s]\n"
     ]
    },
    {
     "ename": "TypeError",
     "evalue": "unsupported operand type(s) for /: 'str' and 'str'",
     "output_type": "error",
     "traceback": [
      "\u001b[0;31m---------------------------------------------------------------------------\u001b[0m",
      "\u001b[0;31mTypeError\u001b[0m                                 Traceback (most recent call last)",
      "Cell \u001b[0;32mIn[4], line 1\u001b[0m\n\u001b[0;32m----> 1\u001b[0m \u001b[43mmiditok\u001b[49m\u001b[38;5;241;43m.\u001b[39;49m\u001b[43mdata_augmentation\u001b[49m\u001b[38;5;241;43m.\u001b[39;49m\u001b[43mdata_augmentation_dataset\u001b[49m\u001b[43m(\u001b[49m\u001b[43mdata_path\u001b[49m\u001b[43m \u001b[49m\u001b[38;5;241;43m=\u001b[39;49m\u001b[43m \u001b[49m\u001b[38;5;124;43m'\u001b[39;49m\u001b[38;5;124;43mdata_remi_norm/train\u001b[39;49m\u001b[38;5;124;43m'\u001b[39;49m\u001b[43m,\u001b[49m\n\u001b[1;32m      2\u001b[0m \u001b[43m                                                    \u001b[49m\u001b[43mtokenizer\u001b[49m\u001b[38;5;241;43m=\u001b[39;49m\u001b[43mtokenizer\u001b[49m\u001b[43m,\u001b[49m\n\u001b[1;32m      3\u001b[0m \u001b[43m                                                    \u001b[49m\u001b[43mnb_octave_offset\u001b[49m\u001b[38;5;241;43m=\u001b[39;49m\u001b[38;5;241;43m2\u001b[39;49m\u001b[43m,\u001b[49m\n\u001b[1;32m      4\u001b[0m \u001b[43m                                                    \u001b[49m\u001b[43mnb_vel_offset\u001b[49m\u001b[38;5;241;43m=\u001b[39;49m\u001b[38;5;241;43m2\u001b[39;49m\u001b[43m,\u001b[49m\n\u001b[1;32m      5\u001b[0m \u001b[43m                                                    \u001b[49m\u001b[43mout_path\u001b[49m\u001b[43m \u001b[49m\u001b[38;5;241;43m=\u001b[39;49m\u001b[43m \u001b[49m\u001b[38;5;124;43m'\u001b[39;49m\u001b[38;5;124;43mdata_remi_norm_aug/train\u001b[39;49m\u001b[38;5;124;43m'\u001b[39;49m\u001b[43m,\u001b[49m\n\u001b[1;32m      6\u001b[0m \u001b[43m                                                    \u001b[49m\u001b[43mcopy_original_in_new_location\u001b[49m\u001b[38;5;241;43m=\u001b[39;49m\u001b[38;5;28;43;01mTrue\u001b[39;49;00m\u001b[43m)\u001b[49m\n",
      "File \u001b[0;32m/opt/conda/lib/python3.10/site-packages/miditok/data_augmentation/data_augmentation.py:221\u001b[0m, in \u001b[0;36mdata_augmentation_dataset\u001b[0;34m(data_path, tokenizer, nb_octave_offset, nb_vel_offset, nb_dur_offset, octave_directions, vel_directions, dur_directions, all_offset_combinations, out_path, copy_original_in_new_location)\u001b[0m\n\u001b[1;32m    218\u001b[0m             midi\u001b[38;5;241m.\u001b[39mdump(saving_path)\n\u001b[1;32m    220\u001b[0m \u001b[38;5;66;03m# Saves data augmentation report, json encoded with txt extension to not mess with others json files\u001b[39;00m\n\u001b[0;32m--> 221\u001b[0m \u001b[38;5;28;01mwith\u001b[39;00m \u001b[38;5;28mopen\u001b[39m(\u001b[43mdata_path\u001b[49m\u001b[43m \u001b[49m\u001b[38;5;241;43m/\u001b[39;49m\u001b[43m \u001b[49m\u001b[38;5;124;43m\"\u001b[39;49m\u001b[38;5;124;43mdata_augmentation.txt\u001b[39;49m\u001b[38;5;124;43m\"\u001b[39;49m, \u001b[38;5;124m\"\u001b[39m\u001b[38;5;124mw\u001b[39m\u001b[38;5;124m\"\u001b[39m) \u001b[38;5;28;01mas\u001b[39;00m outfile:\n\u001b[1;32m    222\u001b[0m     json\u001b[38;5;241m.\u001b[39mdump(\n\u001b[1;32m    223\u001b[0m         {\n\u001b[1;32m    224\u001b[0m             \u001b[38;5;124m\"\u001b[39m\u001b[38;5;124mnb_tracks_augmented\u001b[39m\u001b[38;5;124m\"\u001b[39m: nb_tracks_augmented,\n\u001b[0;32m   (...)\u001b[0m\n\u001b[1;32m    228\u001b[0m         outfile,\n\u001b[1;32m    229\u001b[0m     )\n",
      "\u001b[0;31mTypeError\u001b[0m: unsupported operand type(s) for /: 'str' and 'str'"
     ]
    }
   ],
   "source": [
    "miditok.data_augmentation.data_augmentation_dataset(data_path = 'data_remi_norm/train',\n",
    "                                                    tokenizer=tokenizer,\n",
    "                                                    nb_octave_offset=2,\n",
    "                                                    nb_vel_offset=2,\n",
    "                                                    out_path = 'data_remi_norm_aug/train',\n",
    "                                                    copy_original_in_new_location=True)"
   ]
  },
  {
   "cell_type": "markdown",
   "id": "7d566fac-c56d-405c-aae6-a8375636eae2",
   "metadata": {},
   "source": [
    "### Perform BPE"
   ]
  },
  {
   "cell_type": "code",
   "execution_count": 28,
   "id": "f426c281-9010-4232-b400-72a75d16bd96",
   "metadata": {},
   "outputs": [],
   "source": [
    "tokenizer_bpe = copy.deepcopy(tokenizer)"
   ]
  },
  {
   "cell_type": "code",
   "execution_count": 43,
   "id": "0d62db0a-750a-4a17-a045-34bc74cec111",
   "metadata": {},
   "outputs": [],
   "source": [
    "tokens = list()\n",
    "filez_path = \"data_remi_norm\"\n",
    "for (dirpath, dirnames, filenames) in os.walk(filez_path):\n",
    "    # Filter files with only .mid or .midi extensions\n",
    "    json_files = [os.path.join(dirpath, file) for file in filenames if file.lower().endswith(\".json\")]\n",
    "    tokens += json_files"
   ]
  },
  {
   "cell_type": "code",
   "execution_count": 34,
   "id": "8353f658-94d1-476a-aaa9-eaa009b71b1c",
   "metadata": {},
   "outputs": [
    {
     "name": "stderr",
     "output_type": "stream",
     "text": [
      "Loading token files: 100%|██████████| 23195/23195 [00:16<00:00, 1440.15it/s]\n"
     ]
    },
    {
     "name": "stdout",
     "output_type": "stream",
     "text": [
      "\n",
      "\n",
      "\n"
     ]
    }
   ],
   "source": [
    "tokenizer_bpe.learn_bpe(\n",
    "    vocab_size=2000,\n",
    "    tokens_paths=tokens,\n",
    ")"
   ]
  },
  {
   "cell_type": "code",
   "execution_count": 35,
   "id": "dcbc766c-7881-4d56-b572-4ed74c2a213d",
   "metadata": {},
   "outputs": [],
   "source": [
    "pickle.dump(tokenizer_bpe, open(\"tokenizer_bpe.p\", \"wb\"))"
   ]
  },
  {
   "cell_type": "code",
   "execution_count": 6,
   "id": "a0e0f04d-7181-4abc-b17c-f4278a80133a",
   "metadata": {},
   "outputs": [],
   "source": [
    "tokenizer_bpe = pickle.load(open(\"tokenizer_bpe.p\", \"rb\"))"
   ]
  },
  {
   "cell_type": "code",
   "execution_count": 36,
   "id": "dbdef077-dd16-44a2-b616-c8701f5e5e9a",
   "metadata": {},
   "outputs": [
    {
     "name": "stderr",
     "output_type": "stream",
     "text": [
      "Applying BPE to dataset: 100%|██████████| 23195/23195 [02:51<00:00, 135.43it/s]\n"
     ]
    }
   ],
   "source": [
    "tokenizer_bpe.apply_bpe_to_dataset(\"data_remi_norm\", \"data_remi_norm_bpe\")"
   ]
  },
  {
   "cell_type": "code",
   "execution_count": 52,
   "id": "a0b9bb99-ccde-40a3-8e35-a140dff29fc1",
   "metadata": {},
   "outputs": [
    {
     "name": "stdout",
     "output_type": "stream",
     "text": [
      "Average compression: 0.5202478647877393\n"
     ]
    }
   ],
   "source": [
    "ratios = []\n",
    "for i in range(100):\n",
    "    with open(tokens_bpe[i]) as f:\n",
    "        data_bpe = json.load(f)\n",
    "    with open(tokens[i]) as f:\n",
    "        data = json.load(f)\n",
    "    ratio = len(data_bpe['ids'][0])/len(data['ids'][0])\n",
    "    ratios.append(ratio)\n",
    "print(f\"Average compression: {sum(ratios)/len(ratios)}\")"
   ]
  }
 ],
 "metadata": {
  "kernelspec": {
   "display_name": "Python 3 (ipykernel)",
   "language": "python",
   "name": "python3"
  },
  "language_info": {
   "codemirror_mode": {
    "name": "ipython",
    "version": 3
   },
   "file_extension": ".py",
   "mimetype": "text/x-python",
   "name": "python",
   "nbconvert_exporter": "python",
   "pygments_lexer": "ipython3",
   "version": "3.10.13"
  }
 },
 "nbformat": 4,
 "nbformat_minor": 5
}
